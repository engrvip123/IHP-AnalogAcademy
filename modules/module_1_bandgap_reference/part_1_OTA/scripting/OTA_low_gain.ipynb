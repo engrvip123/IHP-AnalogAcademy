{
 "cells": [
  {
   "cell_type": "code",
   "execution_count": 1,
   "metadata": {},
   "outputs": [],
   "source": [
    "import matplotlib.pyplot as plt\n",
    "import numpy as np\n",
    "from mosplot.plot import load_lookup_table, Mosfet, Expression\n",
    "import ipywidgets as widgets\n",
    "from ipywidgets import interactive\n",
    "from ipywidgets import interactive_output, HBox, VBox\n",
    "import matplotlib.ticker as ticker "
   ]
  },
  {
   "cell_type": "code",
   "execution_count": 2,
   "metadata": {},
   "outputs": [],
   "source": [
    "lookup_table_nmos = load_lookup_table('../../../module_0_foundations/sg13_nmos_lv_LUT.npz')\n",
    "lookup_table_pmos = load_lookup_table('../../../module_0_foundations/sg13_pmos_lv_LUT.npz')"
   ]
  },
  {
   "cell_type": "code",
   "execution_count": 3,
   "metadata": {},
   "outputs": [
    {
     "name": "stdout",
     "output_type": "stream",
     "text": [
      "dict_keys(['sg13_lv_nmos ', 'description', 'simulator', 'parameter_names', 'device_parameters'])\n"
     ]
    }
   ],
   "source": [
    "print(lookup_table_nmos.keys())"
   ]
  },
  {
   "cell_type": "code",
   "execution_count": 4,
   "metadata": {},
   "outputs": [],
   "source": [
    "nmos = Mosfet(lookup_table=lookup_table_nmos, mos=\"sg13_lv_nmos \", vbs=0.0, vds=0.6)\n",
    "pmos = Mosfet(lookup_table=lookup_table_pmos, mos=\"sg13_lv_pmos\", vbs=0.0, vds=-0.6, vgs=(-1.2, -0.15))"
   ]
  },
  {
   "cell_type": "code",
   "execution_count": 5,
   "metadata": {
    "jupyter": {
     "source_hidden": true
    }
   },
   "outputs": [],
   "source": [
    "def plot_data_vs_data(x_values, y_values, z_values, length, x_axis_name, y_axis_name='y', y_multiplier=1, log=False):\n",
    "    x_values_flat = np.array(x_values).flatten()\n",
    "    y_values_flat = np.array(y_values, dtype=np.float64).flatten()\n",
    "    z_values_flat = np.array(z_values, dtype=np.float64).flatten()\n",
    "    \n",
    "    length_arr = np.array(length)\n",
    "    \n",
    "    length_flat = length_arr.flatten()\n",
    "    \n",
    "\n",
    "    unique_lengths = np.unique(length_flat)\n",
    "    unique_lengths_in_micro = unique_lengths * 1e6\n",
    "\n",
    "    def update_plot(selected_length, x_value=None, y_value=None):\n",
    "        plt.figure(figsize=(12, 8))  # Make the figure wider (adjust as needed)\n",
    "\n",
    "        if selected_length == \"Show All\":\n",
    "            mask = np.ones_like(length_flat, dtype=bool)\n",
    "        else:\n",
    "            selected_length_in_micro = float(selected_length.replace(' μm', ''))\n",
    "            tolerance = 0.01  # Tighten the tolerance to avoid unwanted data points\n",
    "            mask = np.abs(length_flat * 1e6 - selected_length_in_micro) < tolerance\n",
    "\n",
    "        # Apply the mask to the data\n",
    "        x_values_for_length = x_values_flat[mask]\n",
    "        y_values_for_length = y_values_flat[mask] * y_multiplier\n",
    "        z_values_for_length = z_values_flat[mask]\n",
    "        length_for_length = length_flat[mask] * 1e6\n",
    "\n",
    "        if selected_length == \"Show All\":\n",
    "            for length_value in np.unique(length_for_length):\n",
    "                mask_all = (length_for_length == length_value)\n",
    "                plt.plot(x_values_for_length[mask_all], y_values_for_length[mask_all])\n",
    "\n",
    "            min_length = np.min(unique_lengths_in_micro)\n",
    "            max_length = np.max(unique_lengths_in_micro)\n",
    "            plt.title(f'{y_axis_name} vs {x_axis_name} (Length from {min_length:.2f} μm to {max_length:.2f} μm)')\n",
    "\n",
    "        else:\n",
    "            plt.plot(x_values_for_length, y_values_for_length)\n",
    "            plt.title(f'{y_axis_name} vs {x_axis_name} for {selected_length}')\n",
    "\n",
    "        plt.xlabel(f'{x_axis_name}')\n",
    "        plt.ylabel(f'{y_axis_name}')\n",
    "\n",
    "        if log:\n",
    "            plt.yscale('log')\n",
    "            plt.gca().yaxis.set_major_locator(ticker.LogLocator(base=10, subs=[], numticks=10))\n",
    "            plt.gca().yaxis.set_major_formatter(ticker.FuncFormatter(lambda x, _: f'$10^{int(np.log10(x))}$'))\n",
    "            plt.ylabel(f'{y_axis_name} (Log Base 10)')\n",
    "\n",
    "        if y_value is not None and x_value_widget.disabled:\n",
    "            closest_index = np.abs(y_values_for_length - y_value).argmin()\n",
    "            closest_x = x_values_for_length[closest_index]\n",
    "            closest_y = y_values_for_length[closest_index]\n",
    "            corresponding_z = z_values_for_length[closest_index]\n",
    "\n",
    "            plt.scatter(closest_x, closest_y, color='blue', label=f'Point ({closest_x:.2f}, {closest_y:.2f})')\n",
    "            z_value_widget.value = corresponding_z\n",
    "            print(f\"The corresponding {x_axis_name} value for {y_axis_name} = {closest_y:.2f} is: {closest_x:.2f}\")\n",
    "        elif x_value is not None and y_value_widget.disabled:\n",
    "            closest_index = np.abs(x_values_for_length - x_value).argmin()\n",
    "            closest_x = x_values_for_length[closest_index]\n",
    "            closest_y = y_values_for_length[closest_index]\n",
    "            corresponding_z = z_values_for_length[closest_index]\n",
    "\n",
    "            plt.scatter(closest_x, closest_y, color='red', label=f'Point ({closest_x:.2f}, {closest_y:.2f})')\n",
    "            z_value_widget.value = corresponding_z\n",
    "            print(f\"The corresponding {y_axis_name} value for {x_axis_name} = {closest_x:.2f} is: {closest_y:.2f}\")\n",
    "\n",
    "        plt.grid(True)\n",
    "        plt.legend()\n",
    "        plt.show()\n",
    "\n",
    "    dropdown_options = [\"Show All\"] + [f'{length:.2f} μm' for length in unique_lengths_in_micro]\n",
    "    length_widget = widgets.Dropdown(\n",
    "        options=dropdown_options,\n",
    "        value=dropdown_options[0],\n",
    "        description='Length:',\n",
    "        layout=widgets.Layout(width='500px')  # Make the dropdown wider\n",
    "    )\n",
    "\n",
    "    x_value_widget = widgets.FloatText(\n",
    "        value=np.mean(x_values_flat),\n",
    "        description=f\"{x_axis_name}:\",\n",
    "        disabled=False,\n",
    "        layout=widgets.Layout(width='300px', margin='0 40px 0 0'),  # Push input boxes more to the right\n",
    "        description_width='150px'  # Smaller description width\n",
    "    )\n",
    "\n",
    "    y_value_widget = widgets.FloatText(\n",
    "        value=None,\n",
    "        description=f\"{y_axis_name}:\",\n",
    "        disabled=True,\n",
    "        layout=widgets.Layout(width='300px', margin='0 40px 0 0'),  # Push input boxes more to the right\n",
    "        description_width='150px'  # Smaller description width\n",
    "    )\n",
    "\n",
    "    z_value_widget = widgets.FloatText(\n",
    "        value=None,\n",
    "        description=f\" Vgs:\",\n",
    "        disabled=True,\n",
    "        layout=widgets.Layout(width='300px', margin='0 40px 0 0'),  # Push input boxes more to the right\n",
    "        description_width='150px'  # Smaller description width\n",
    "    )\n",
    "\n",
    "    select_x_or_y_widget = widgets.Checkbox(\n",
    "        value=True,\n",
    "        description=f\"{x_axis_name} (uncheck for {y_axis_name})\",\n",
    "        layout=widgets.Layout(width='300px')  # Make the checkbox wider\n",
    "    )\n",
    "\n",
    "    def toggle_x_or_y(change):\n",
    "        if change['new']:\n",
    "            x_value_widget.disabled = False\n",
    "            y_value_widget.disabled = True\n",
    "        else:\n",
    "            x_value_widget.disabled = True\n",
    "            y_value_widget.disabled = False\n",
    "\n",
    "    select_x_or_y_widget.observe(toggle_x_or_y, names='value')\n",
    "\n",
    "    output = interactive_output(update_plot, {\n",
    "        'selected_length': length_widget,\n",
    "        'x_value': x_value_widget,\n",
    "        'y_value': y_value_widget\n",
    "    })\n",
    "\n",
    "    display(VBox([length_widget, select_x_or_y_widget, HBox([x_value_widget, y_value_widget]), z_value_widget, output]))\n",
    "\n",
    "\n",
    "\n",
    "def tile_length_to_match_data(length_array, data_array):\n",
    "    length_array = np.array(length_array).flatten()  \n",
    "    data_shape = data_array.shape \n",
    "    \n",
    "    if length_array.size == data_shape[0]:\n",
    "        # length matches number of rows, repeat along columns\n",
    "        return np.tile(length_array.reshape(-1, 1), (1, data_shape[1]))\n",
    "    elif length_array.size == data_shape[1]:\n",
    "        # length matches number of columns, repeat along rows\n",
    "        return np.tile(length_array.reshape(1, -1), (data_shape[0], 1))\n",
    "    else:\n",
    "        raise ValueError(f\"Length array size {length_array.size} does not match any dimension of data shape {data_shape}\")\n",
    "\n",
    "\n",
    "    \n",
    "def display_resistance(ro_value):\n",
    "    \"\"\"Determine the resistance value and its unit.\"\"\"\n",
    "    if ro_value < 1e3:\n",
    "        return ro_value, \"Ω\"\n",
    "    elif ro_value < 1e6:\n",
    "        return ro_value / 1e3, \"kΩ\"\n",
    "    elif ro_value < 1e9:\n",
    "        return ro_value / 1e6, \"MΩ\"\n",
    "    else:\n",
    "        return ro_value / 1e9, \"GΩ\"\n",
    "\n",
    "def display_current(Id_value):\n",
    "    \"\"\"Determine the current value and its unit.\"\"\"\n",
    "    if Id_value < 1e-6:\n",
    "        return Id_value * 1e9, \"nA\"  # Convert to nA\n",
    "    elif Id_value < 1e-3:\n",
    "        return Id_value * 1e6, \"μA\"  # Convert to μA\n",
    "    else:\n",
    "        return Id_value * 1e3, \"mA\"   # Convert to mA\n",
    "    \n",
    "def dB_to_linear(av_db):\n",
    "    return 10 ** (av_db / 20)\n",
    "\n",
    "\n",
    "def determine_inversion_region(gm_id_value, device_type):\n",
    "    \"\"\"Determine the inversion region based on gm/id value for NMOS or PMOS.\"\"\"\n",
    "    if device_type == 'nmos':\n",
    "        if gm_id_value > 20:\n",
    "            return \"Weak Inversion\"\n",
    "        elif 10 < gm_id_value <= 20:\n",
    "            return \"Moderate Inversion\"\n",
    "        else:\n",
    "            return \"Strong Inversion\"\n",
    "    elif device_type == 'pmos':\n",
    "        if gm_id_value > 20:\n",
    "            return \"Weak Inversion\"\n",
    "        elif 10 < gm_id_value <= 20:\n",
    "            return \"Moderate Inversion\"\n",
    "        else:\n",
    "            return \"Strong Inversion\"\n",
    "    else:\n",
    "        raise ValueError(\"Invalid device type. Use 'nmos' or 'pmos'.\")\n",
    "    \n"
   ]
  },
  {
   "cell_type": "code",
   "execution_count": 6,
   "metadata": {},
   "outputs": [],
   "source": [
    "### ------ automated flattening based on shape ------### \n",
    "reshaped_lengths_pmos = tile_length_to_match_data(pmos.length, pmos.extracted_table['gm'])\n",
    "reshaped_lengths_nmos = tile_length_to_match_data(nmos.length, nmos.extracted_table['gm'])"
   ]
  },
  {
   "attachments": {
    "image.png": {
     "image/png": "[encoded data removed]"
    }
   },
   "cell_type": "markdown",
   "metadata": {},
   "source": [
    "![image.png](attachment:image.png)"
   ]
  },
  {
   "cell_type": "markdown",
   "metadata": {},
   "source": [
    "# As Starting point the input stage is sized."
   ]
  },
  {
   "cell_type": "code",
   "execution_count": 7,
   "metadata": {},
   "outputs": [],
   "source": [
    "vdd = 1.2 # supply voltage\n",
    "Cl = 500e-15 # load capacitance\n",
    "Av_wish = 75 # in db approximatly 70-75db\n",
    "fdominant = 1000 # dominant pole frequency\n",
    "CC = Cl*1.5\n",
    "GBW = fdominant * dB_to_linear(Av_wish) # Gain Bandwidth Product"
   ]
  },
  {
   "cell_type": "code",
   "execution_count": 8,
   "metadata": {},
   "outputs": [],
   "source": [
    "gm_M12 = GBW * CC * 2 * np.pi\n",
    "gm_M6  = 15 * gm_M12"
   ]
  },
  {
   "cell_type": "code",
   "execution_count": 9,
   "metadata": {},
   "outputs": [
    {
     "data": {
      "application/vnd.jupyter.widget-view+json": {
       "model_id": "72114aa1708645529ec782f5479a3a60",
       "version_major": 2,
       "version_minor": 0
      },
      "text/plain": [
       "VBox(children=(Dropdown(description='Length:', layout=Layout(width='500px'), options=('Show All', '0.13 μm', '…"
      ]
     },
     "metadata": {},
     "output_type": "display_data"
    }
   ],
   "source": [
    "nmos_M6 = Mosfet(lookup_table=lookup_table_nmos, mos=\"sg13_lv_nmos \", vbs=0, vds=0.6)\n",
    "reshaped_lengths_nmos_M6 = tile_length_to_match_data(nmos_M6.length, nmos_M6.extracted_table['gm'])\n",
    "\n",
    "width_values_M6 = nmos_M6.width\n",
    "id_values_M6 = nmos_M6.extracted_table['id']\n",
    "gm_values_M6 = nmos_M6.extracted_table['gm']\n",
    "gds_values_M6 = nmos_M6.extracted_table['gds']\n",
    "vgs_values_M6 = nmos_M6.extracted_table['vgs']\n",
    "\n",
    "plot_data_vs_data(gm_values_M6/id_values_M6, gm_values_M6/gds_values_M6, vgs_values_M6, reshaped_lengths_nmos_M6, 'gm/id', 'gm/gds')"
   ]
  },
  {
   "cell_type": "code",
   "execution_count": 10,
   "metadata": {},
   "outputs": [
    {
     "data": {
      "text/plain": [
       "7.949913192125772e-05"
      ]
     },
     "execution_count": 10,
     "metadata": {},
     "output_type": "execute_result"
    }
   ],
   "source": [
    "# For max gmro and vgs of 0.6V we have gmid of 5\n",
    "L_M6 = 9.75e-6\n",
    "gmid_M6 = 5 # strong inversion, i.e saturation\n",
    "id_outputstage = gm_M6/gmid_M6\n",
    "gmro_M6 = 55.68\n",
    "ro_M6 = gmro_M6/gm_M6\n",
    "id_outputstage"
   ]
  },
  {
   "cell_type": "code",
   "execution_count": 11,
   "metadata": {},
   "outputs": [
    {
     "name": "stdout",
     "output_type": "stream",
     "text": [
      "gmro_M7 = 222.72\n"
     ]
    }
   ],
   "source": [
    "# Now for the pmos output transistor we must have 3 time the output impedance to insure max output gain\n",
    "ro_M7 = 2 * ro_M6\n",
    "# we want to place this transistor in moderate inversion\n",
    "gmid_M7 = 10\n",
    "gm_M7 = gmid_M7 * id_outputstage\n",
    "gmro_M7 = gm_M7 * ro_M7\n",
    "print(f'gmro_M7 = {gmro_M7:.2f}')"
   ]
  },
  {
   "cell_type": "code",
   "execution_count": 12,
   "metadata": {},
   "outputs": [
    {
     "data": {
      "application/vnd.jupyter.widget-view+json": {
       "model_id": "d2c6f85fa97b4d9d8844e236d1b23f3f",
       "version_major": 2,
       "version_minor": 0
      },
      "text/plain": [
       "VBox(children=(Dropdown(description='Length:', layout=Layout(width='500px'), options=('Show All', '0.13 μm', '…"
      ]
     },
     "metadata": {},
     "output_type": "display_data"
    }
   ],
   "source": [
    "pmos_M7 = Mosfet(lookup_table=lookup_table_pmos, mos=\"sg13_lv_pmos\", vbs=0, vds=-0.6, vgs=(-1.2, -0.1))\n",
    "reshaped_lengths_pmos_M7 = tile_length_to_match_data(pmos_M7.length, pmos_M7.extracted_table['gm'])\n",
    "\n",
    "width_values_M7 = pmos_M7.width\n",
    "id_values_M7 = pmos_M7.extracted_table['id']\n",
    "gm_values_M7 = pmos_M7.extracted_table['gm']\n",
    "gds_values_M7 = pmos_M7.extracted_table['gds']\n",
    "vgs_values_M7 = pmos_M7.extracted_table['vgs']\n",
    "\n",
    "plot_data_vs_data(gm_values_M7/id_values_M7, gm_values_M7/gds_values_M7, vgs_values_M7, reshaped_lengths_pmos_M7, 'gm/id', 'gds')\n",
    "\n",
    "\n"
   ]
  },
  {
   "cell_type": "code",
   "execution_count": 13,
   "metadata": {},
   "outputs": [],
   "source": [
    "# For the criteria to be met we must have \n",
    "L_M7 = 2.08e-6\n",
    "gmro_M7 = 390"
   ]
  },
  {
   "cell_type": "code",
   "execution_count": 14,
   "metadata": {},
   "outputs": [
    {
     "name": "stdout",
     "output_type": "stream",
     "text": [
      "L_M6 = 9.75e-06\n",
      "gmid_M6 = 5.00\n",
      "L_M7 = 2.08e-06\n",
      "gmid_M7 = 10.00\n"
     ]
    }
   ],
   "source": [
    "print(f'L_M6 = {L_M6:.2e}')\n",
    "print(f'gmid_M6 = {gmid_M6:.2f}')\n",
    "print(f'L_M7 = {L_M7:.2e}')\n",
    "print(f'gmid_M7 = {gmid_M7:.2f}')\n"
   ]
  },
  {
   "cell_type": "code",
   "execution_count": 15,
   "metadata": {},
   "outputs": [
    {
     "data": {
      "application/vnd.jupyter.widget-view+json": {
       "model_id": "3423adf060a5431c9ed9dcfd25cdd5cb",
       "version_major": 2,
       "version_minor": 0
      },
      "text/plain": [
       "VBox(children=(Dropdown(description='Length:', layout=Layout(width='500px'), options=('Show All', '0.13 μm', '…"
      ]
     },
     "metadata": {},
     "output_type": "display_data"
    },
    {
     "data": {
      "application/vnd.jupyter.widget-view+json": {
       "model_id": "d9a07198c63c44209996a193ba18660b",
       "version_major": 2,
       "version_minor": 0
      },
      "text/plain": [
       "VBox(children=(Dropdown(description='Length:', layout=Layout(width='500px'), options=('Show All', '0.13 μm', '…"
      ]
     },
     "metadata": {},
     "output_type": "display_data"
    }
   ],
   "source": [
    "plot_data_vs_data(gm_values_M6/id_values_M6,id_values_M6/width_values_M6, vgs_values_M6, reshaped_lengths_nmos_M6, 'gm/id', 'M6 id/W', log=True)\n",
    "plot_data_vs_data(gm_values_M7/id_values_M7, id_values_M7/width_values_M7,vgs_values_M7, reshaped_lengths_pmos_M7, 'gm/id', 'M7 id/W', log=True)"
   ]
  },
  {
   "cell_type": "code",
   "execution_count": 16,
   "metadata": {},
   "outputs": [
    {
     "name": "stdout",
     "output_type": "stream",
     "text": [
      "\n",
      "Output Stage Amplification Summary\n",
      "Width and Lengths for M6\n",
      "    W = 28.80 um\n",
      "    L = 9.75 um\n",
      "Inversion Region for M6: Strong Inversion\n",
      "\n",
      "Width and Lengths for M7\n",
      "    W = 75.00 um\n",
      "    L = 2.08 um\n",
      "Inversion Region for M7: Strong Inversion\n",
      "\n",
      "Output Stage Bias:\n",
      "    Output Current : 79.50 μA\n",
      "\n",
      "Output Stage Gain:\n",
      "    Av2 = 37.12 (31.39 dB)\n",
      "\n"
     ]
    }
   ],
   "source": [
    "id_over_W_M6 = 2.76\n",
    "id_over_W_M7 = 1.06\n",
    "\n",
    "display_outcurrent, unit_outcurrent = display_current(id_outputstage)\n",
    "Av2 = gm_M6 * (ro_M6 * ro_M7)/(ro_M6 + ro_M7)\n",
    "Av2_db = 20 * np.log10(Av2)\n",
    "\n",
    "W_M6 = id_outputstage/id_over_W_M6\n",
    "W_M7 = id_outputstage/id_over_W_M7\n",
    "\n",
    "output_stage_summary = f\"\"\"\n",
    "Output Stage Amplification Summary\n",
    "Width and Lengths for M6\n",
    "    W = {W_M6*1e6:.2f} um\n",
    "    L = {L_M6*1e6:.2f} um\n",
    "Inversion Region for M6: {determine_inversion_region(gmid_M6, 'nmos')}\n",
    "\n",
    "Width and Lengths for M7\n",
    "    W = {W_M7*1e6:.2f} um\n",
    "    L = {L_M7*1e6:.2f} um\n",
    "Inversion Region for M7: {determine_inversion_region(gmid_M7, 'pmos')}\n",
    "\n",
    "Output Stage Bias:\n",
    "    Output Current : {display_outcurrent:.2f} {unit_outcurrent}\n",
    "\n",
    "Output Stage Gain:\n",
    "    Av2 = {Av2:.2f} ({Av2_db:.2f} dB)\n",
    "\"\"\"\n",
    "\n",
    "print(output_stage_summary)"
   ]
  },
  {
   "cell_type": "markdown",
   "metadata": {},
   "source": [
    "# For sizing the output stage we must insure that we hit our target for the first pole, and get max gain"
   ]
  },
  {
   "cell_type": "code",
   "execution_count": 17,
   "metadata": {},
   "outputs": [
    {
     "data": {
      "text/plain": [
       "2.0004294796936965e-06"
      ]
     },
     "execution_count": 17,
     "metadata": {},
     "output_type": "execute_result"
    }
   ],
   "source": [
    "# Now we assume that the max gmro for our nmos in the input stage is 55.68\n",
    "fp2 = gm_M6/(2*np.pi*Cl)\n",
    "gmro_M34_assumption = 55.68\n",
    "gmid_M34 = 5\n",
    "Rout1 = 1/(2*np.pi*fdominant* CC * (1 + Av2))\n",
    "gm_M34 = gmro_M34_assumption/Rout1\n",
    "id_branch = gm_M34/gmid_M34\n",
    "id_branch"
   ]
  },
  {
   "cell_type": "code",
   "execution_count": 18,
   "metadata": {},
   "outputs": [
    {
     "name": "stdout",
     "output_type": "stream",
     "text": [
      "mirror_pole_assumption = 20.95 MHz\n",
      "fp2 = 126.52679816782855 MHz\n"
     ]
    }
   ],
   "source": [
    "mirror_pole_assumption = (gm_M34/( 4*np.pi*38e-15))*1e-6\n",
    "print(f'mirror_pole_assumption = {mirror_pole_assumption:.2f} MHz')\n",
    "print(f'fp2 = {fp2*1e-6:} MHz')"
   ]
  },
  {
   "cell_type": "code",
   "execution_count": 19,
   "metadata": {},
   "outputs": [
    {
     "name": "stdout",
     "output_type": "stream",
     "text": [
      "gmro_M12 = 442.56\n",
      "gmid_M12 = 13.25\n"
     ]
    }
   ],
   "source": [
    "gmro_M12 = gm_M12 * Rout1*3\n",
    "gmid_M12 = gm_M12/id_branch\n",
    "print(f'gmro_M12 = {gmro_M12:.2f}')\n",
    "print(f'gmid_M12 = {gmid_M12:.2f}')"
   ]
  },
  {
   "cell_type": "markdown",
   "metadata": {},
   "source": [
    "# Finding the dimensions for the input stage transistors"
   ]
  },
  {
   "cell_type": "code",
   "execution_count": 25,
   "metadata": {},
   "outputs": [
    {
     "data": {
      "application/vnd.jupyter.widget-view+json": {
       "model_id": "bc344d417b284a71abea7fb90081872e",
       "version_major": 2,
       "version_minor": 0
      },
      "text/plain": [
       "VBox(children=(Dropdown(description='Length:', layout=Layout(width='500px'), options=('Show All', '0.13 μm', '…"
      ]
     },
     "metadata": {},
     "output_type": "display_data"
    },
    {
     "data": {
      "application/vnd.jupyter.widget-view+json": {
       "model_id": "b312811f418442868110cc154d1cd4b7",
       "version_major": 2,
       "version_minor": 0
      },
      "text/plain": [
       "VBox(children=(Dropdown(description='Length:', layout=Layout(width='500px'), options=('Show All', '0.13 μm', '…"
      ]
     },
     "metadata": {},
     "output_type": "display_data"
    }
   ],
   "source": [
    "pmos_M12 = Mosfet(lookup_table=lookup_table_pmos, mos=\"sg13_lv_pmos\", vbs=-0.2, vds=-0.6, vgs=(-1.2, -0.1))\n",
    "nmos_M34 = Mosfet(lookup_table=lookup_table_nmos, mos=\"sg13_lv_nmos \", vbs=0, vds=0.6)\n",
    "reshaped_lengths_nmos_M34 = tile_length_to_match_data(nmos_M34.length, nmos_M34.extracted_table['gm'])\n",
    "reshaped_lengths_pmos_M12 = tile_length_to_match_data(pmos_M12.length, pmos_M12.extracted_table['gm'])\n",
    "\n",
    "id_values_M12 = pmos_M12.extracted_table['id']\n",
    "gm_values_M12 = pmos_M12.extracted_table['gm']\n",
    "gds_values_M12 = pmos_M12.extracted_table['gds']\n",
    "vgs_values_M12 = pmos_M12.extracted_table['vgs']\n",
    "\n",
    "id_values_M34 = nmos_M34.extracted_table['id']\n",
    "gm_values_M34 = nmos_M34.extracted_table['gm']\n",
    "gds_values_M34 = nmos_M34.extracted_table['gds']\n",
    "vgs_values_M34 = nmos_M34.extracted_table['vgs']\n",
    "\n",
    "plot_data_vs_data(gm_values_M12/id_values_M12, gm_values_M12/gds_values_M12, vgs_values_M12, reshaped_lengths_pmos_M12, 'gm/id', 'm12 gm/gds')\n",
    "plot_data_vs_data(gm_values_M34/id_values_M34, gm_values_M34/gds_values_M34, vgs_values_M34, reshaped_lengths_nmos_M34, 'gm/id', 'm34 gm/gds')"
   ]
  },
  {
   "cell_type": "code",
   "execution_count": 26,
   "metadata": {},
   "outputs": [
    {
     "name": "stdout",
     "output_type": "stream",
     "text": [
      "L_M12 = 3.64e-06\n",
      "gmid_M12 = 13.25\n",
      "L_M34 = 9.75e-06\n",
      "gmid_M34 = 5.00\n"
     ]
    }
   ],
   "source": [
    "L_M12 = 3.64e-6\n",
    "L_M34 = 9.75e-6\n",
    "\n",
    "print(f'L_M12 = {L_M12:.2e}')\n",
    "print(f'gmid_M12 = {gmid_M12:.2f}')\n",
    "print(f'L_M34 = {L_M34:.2e}')\n",
    "print(f'gmid_M34 = {gmid_M34:.2f}')\n",
    "\n"
   ]
  },
  {
   "cell_type": "code",
   "execution_count": 27,
   "metadata": {},
   "outputs": [
    {
     "data": {
      "application/vnd.jupyter.widget-view+json": {
       "model_id": "e503a959702844d09e52f5cc34072b5b",
       "version_major": 2,
       "version_minor": 0
      },
      "text/plain": [
       "VBox(children=(Dropdown(description='Length:', layout=Layout(width='500px'), options=('Show All', '0.13 μm', '…"
      ]
     },
     "metadata": {},
     "output_type": "display_data"
    },
    {
     "data": {
      "application/vnd.jupyter.widget-view+json": {
       "model_id": "9299f09d02b1408b88c4ad86a163ce34",
       "version_major": 2,
       "version_minor": 0
      },
      "text/plain": [
       "VBox(children=(Dropdown(description='Length:', layout=Layout(width='500px'), options=('Show All', '0.13 μm', '…"
      ]
     },
     "metadata": {},
     "output_type": "display_data"
    }
   ],
   "source": [
    "width_values_M12 = pmos_M12.width\n",
    "width_values_M34 = nmos_M34.width\n",
    "\n",
    "plot_data_vs_data(gm_values_M12/id_values_M12,id_values_M12/width_values_M12, vgs_values_M12, reshaped_lengths_pmos_M12, 'gm/id', 'M12 id/W', log=True)\n",
    "plot_data_vs_data(gm_values_M34/id_values_M34, id_values_M34/width_values_M34,vgs_values_M34, reshaped_lengths_nmos_M34, 'gm/id', 'M34 id/W', log=True)\n"
   ]
  },
  {
   "cell_type": "code",
   "execution_count": 28,
   "metadata": {},
   "outputs": [
    {
     "name": "stdout",
     "output_type": "stream",
     "text": [
      "\n",
      "Input Stage Amplification Summary\n",
      "Width and Lengths for M12\n",
      "    W = 7.41 um\n",
      "    L = 3.64 um\n",
      "Inversion Region for M12: Moderate Inversion\n",
      "Width and Lengths for M34\n",
      "    W = 0.72 um\n",
      "    L = 9.75 um\n",
      "Inversion Region for M34: Strong Inversion\n",
      "Input Stage Bias:\n",
      "    Branch Current : 2.00 μA\n",
      "    input Tail current: 4.00 μA\n",
      "\n"
     ]
    }
   ],
   "source": [
    "id_over_W_M12 = 0.27\n",
    "id_over_W_M34 = 2.76\n",
    "\n",
    "display_id_branch, unit_id_branch = display_current(id_branch)\n",
    "\n",
    "W_M12 = id_branch/id_over_W_M12\n",
    "W_M34 = id_branch/id_over_W_M34\n",
    "\n",
    "\n",
    "input_stage_summary = f\"\"\"\n",
    "Input Stage Amplification Summary\n",
    "Width and Lengths for M12\n",
    "    W = {W_M12*1e6:.2f} um\n",
    "    L = {L_M12*1e6:.2f} um\n",
    "Inversion Region for M12: {determine_inversion_region(gmid_M12, 'pmos')}\n",
    "Width and Lengths for M34\n",
    "    W = {W_M34*1e6:.2f} um\n",
    "    L = {L_M34*1e6:.2f} um\n",
    "Inversion Region for M34: {determine_inversion_region(gmid_M34, 'nmos')}\n",
    "Input Stage Bias:\n",
    "    Branch Current : {display_id_branch:.2f} {unit_id_branch}\n",
    "    input Tail current: {display_id_branch*2:.2f} {unit_id_branch}\n",
    "\"\"\"\n",
    "print(input_stage_summary)"
   ]
  },
  {
   "cell_type": "code",
   "execution_count": 29,
   "metadata": {},
   "outputs": [
    {
     "name": "stdout",
     "output_type": "stream",
     "text": [
      "Amplifier is stable\n",
      "\n",
      "Summary\n",
      "Output Stage:\n",
      "    \n",
      "Output Stage Amplification Summary\n",
      "Width and Lengths for M6\n",
      "    W = 28.80 um\n",
      "    L = 9.75 um\n",
      "Inversion Region for M6: Strong Inversion\n",
      "\n",
      "Width and Lengths for M7\n",
      "    W = 75.00 um\n",
      "    L = 2.08 um\n",
      "Inversion Region for M7: Strong Inversion\n",
      "\n",
      "Output Stage Bias:\n",
      "    Output Current : 79.50 μA\n",
      "\n",
      "Output Stage Gain:\n",
      "    Av2 = 37.12 (31.39 dB)\n",
      "\n",
      "Input Stage:\n",
      "    \n",
      "Input Stage Amplification Summary\n",
      "Width and Lengths for M12\n",
      "    W = 7.41 um\n",
      "    L = 3.64 um\n",
      "Inversion Region for M12: Moderate Inversion\n",
      "Width and Lengths for M34\n",
      "    W = 0.72 um\n",
      "    L = 9.75 um\n",
      "Inversion Region for M34: Strong Inversion\n",
      "Input Stage Bias:\n",
      "    Branch Current : 2.00 μA\n",
      "    input Tail current: 4.00 μA\n",
      "\n",
      "    Input stage gain: 107.48 (40.63 dB)\n",
      "\n",
      "Gain and frequency response:\n",
      "    Gain Bandwidth Product: 5623413.251903491 Hz\n",
      "    Dominant Pole Frequency: 1000 Hz\n",
      "    Output Stage Compensation Capacitance: 7.5e-13 F\n",
      "    Load Capacitance: 5e-13 F\n",
      "    dominant pole: 1000.0 Hz\n",
      "    non dominant pole: 126.52679816782855 MHz\n",
      "    mirror pole assumption: 20.945936842105265 MHz\n",
      "    Total gain: 3989.66 (72.02 dB)\n",
      "\n",
      "\n",
      "\n"
     ]
    }
   ],
   "source": [
    "# summarizing everything\\\n",
    "gmro_M12_actual = 396\n",
    "ro_M12 = gmro_M12_actual/gm_M12\n",
    "ro_M34 = gmro_M34_assumption/gm_M34\n",
    "Av1 = gm_M12 * (ro_M12 * ro_M34)/(ro_M12 + ro_M34)\n",
    "f_pole_1 = 1/(2*np.pi * Rout1 * CC * (1 + Av2))\n",
    "f_pole_2 = gm_M6/(2*np.pi * Cl)\n",
    "\n",
    "\n",
    "decades = (20*np.log10(Av1) + Av2_db) / 20\n",
    "\n",
    "if f_pole_1 * 10**decades < f_pole_2:\n",
    "    print(\"Amplifier is stable\")\n",
    "else:\n",
    "    print(\"Amplifier is not stable\")\n",
    "\n",
    "\n",
    "\n",
    "summary = f\"\"\"\n",
    "Summary\n",
    "Output Stage:\n",
    "    {output_stage_summary}\n",
    "Input Stage:\n",
    "    {input_stage_summary}\n",
    "    Input stage gain: {gm_M12 * (ro_M12 * ro_M34)/(ro_M12 + ro_M34):.2f} ({20*np.log10(gm_M12 * (ro_M12 * ro_M34)/(ro_M12 + ro_M34)):.2f} dB)\n",
    "\n",
    "Gain and frequency response:\n",
    "    Gain Bandwidth Product: {GBW:} Hz\n",
    "    Dominant Pole Frequency: {fdominant} Hz\n",
    "    Output Stage Compensation Capacitance: {CC:} F\n",
    "    Load Capacitance: {Cl} F\n",
    "    dominant pole: {f_pole_1} Hz\n",
    "    non dominant pole: {f_pole_2*1e-6} MHz\n",
    "    mirror pole assumption: {mirror_pole_assumption} MHz\n",
    "    Total gain: {Av1*Av2:.2f} ({20*np.log10(Av1*Av2):.2f} dB)\n",
    "\n",
    "\n",
    "\"\"\"\n",
    "print(summary)"
   ]
  }
 ],
 "metadata": {
  "kernelspec": {
   "display_name": "Python 3 (ipykernel)",
   "language": "python",
   "name": "python3"
  },
  "language_info": {
   "codemirror_mode": {
    "name": "ipython",
    "version": 3
   },
   "file_extension": ".py",
   "mimetype": "text/x-python",
   "name": "python",
   "nbconvert_exporter": "python",
   "pygments_lexer": "ipython3",
   "version": "3.10.12"
  }
 },
 "nbformat": 4,
 "nbformat_minor": 4
}
